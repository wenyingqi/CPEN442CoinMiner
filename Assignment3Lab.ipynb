{
  "nbformat": 4,
  "nbformat_minor": 0,
  "metadata": {
    "colab": {
      "provenance": [],
      "collapsed_sections": []
    },
    "kernelspec": {
      "name": "python3",
      "display_name": "Python 3"
    },
    "language_info": {
      "name": "python"
    }
  },
  "cells": [
    {
      "cell_type": "code",
      "execution_count": 7,
      "metadata": {
        "id": "DsULXy2-DDMW"
      },
      "outputs": [],
      "source": [
        "import hashlib\n",
        "import base64"
      ]
    },
    {
      "cell_type": "code",
      "source": [
        "def bruteForceHash():\n",
        "  num_zeroes = 4\n",
        "  testnum = 60000\n",
        "  hash_of_preceding_coin = \"a9c1ae3f4fc29d0be9113a42090a5ef9fdef93f5ec4777a008873972e60bb532\"\n",
        "  id_of_miner = \"deadbeef\"\n",
        "  while True:\n",
        "    coin_blob = str(hex(testnum)) # turn testnum into hex\n",
        "    hash_this = \"CPEN 442 Coin\" + \"2022\" + hash_of_preceding_coin + coin_blob + id_of_miner\n",
        "    result_hash = hashlib.sha256(hash_this.encode('utf-8')).hexdigest()\n",
        "    if (result_hash[0:num_zeroes] == \"0000\"):\n",
        "      print(result_hash)\n",
        "      coin_blob = coin_blob.encode()\n",
        "      break\n",
        "    testnum = testnum + 1;\n",
        "  return coin_blob"
      ],
      "metadata": {
        "id": "YZcTR1QXH_zw"
      },
      "execution_count": 8,
      "outputs": []
    },
    {
      "cell_type": "code",
      "source": [
        "#dylan\n",
        "result = bruteForceHash()\n",
        "result64 = base64.b64encode(result)\n",
        "print(\"result : \" + str(result))\n",
        "print(\"result in b64 \" + str(result64))"
      ],
      "metadata": {
        "id": "aziSl_mNKthm",
        "outputId": "6023f38e-b45f-4da5-b31d-a5913c54156a",
        "colab": {
          "base_uri": "https://localhost:8080/"
        }
      },
      "execution_count": 9,
      "outputs": [
        {
          "output_type": "stream",
          "name": "stdout",
          "text": [
            "000089a044b74b7ddc5f77f4a296fc2501a36d3c082548f9557f1ed8176530b3\n",
            "result : b'0x28589'\n",
            "result in b64 b'MHgyODU4OQ=='\n"
          ]
        }
      ]
    }
  ]
}